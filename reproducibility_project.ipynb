{
  "nbformat": 4,
  "nbformat_minor": 0,
  "metadata": {
    "colab": {
      "name": "reproducibility_project.ipynb",
      "provenance": [],
      "authorship_tag": "ABX9TyNzwAalCF6wh5CigLp6svXJ",
      "include_colab_link": true
    },
    "kernelspec": {
      "name": "python3",
      "display_name": "Python 3"
    },
    "language_info": {
      "name": "python"
    },
    "accelerator": "GPU"
  },
  "cells": [
    {
      "cell_type": "markdown",
      "metadata": {
        "id": "view-in-github",
        "colab_type": "text"
      },
      "source": [
        "<a href=\"https://colab.research.google.com/github/wardyard/Deep-Learning/blob/main/reproducibility_project.ipynb\" target=\"_parent\"><img src=\"https://colab.research.google.com/assets/colab-badge.svg\" alt=\"Open In Colab\"/></a>"
      ]
    },
    {
      "cell_type": "code",
      "execution_count": 1,
      "metadata": {
        "colab": {
          "base_uri": "https://localhost:8080/"
        },
        "id": "p9JxCopnv2eU",
        "outputId": "24f1bfac-2ff2-4e98-f52b-429525b613ae"
      },
      "outputs": [
        {
          "output_type": "stream",
          "name": "stdout",
          "text": [
            "Mounted at /content/drive\n",
            "drive  sample_data\n"
          ]
        }
      ],
      "source": [
        "from google.colab import drive\n",
        "drive.mount('/content/drive')\n",
        "\n",
        "!ls\n",
        "!cd /content\n",
        "!cp '/content/drive/MyDrive/TU Delft/Deep learning/dataset_our_codification.zip' dataset\n",
        "!unzip -q '/content/dataset' -d '/content/'"
      ]
    }
  ]
}